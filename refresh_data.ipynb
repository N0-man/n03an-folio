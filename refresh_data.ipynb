{
 "cells": [
  {
   "cell_type": "markdown",
   "metadata": {},
   "source": [
    "# Lets Begin"
   ]
  },
  {
   "cell_type": "markdown",
   "metadata": {},
   "source": [
    "## Decrypt the current data"
   ]
  },
  {
   "cell_type": "code",
   "execution_count": null,
   "metadata": {},
   "outputs": [],
   "source": [
    "from cryptography.fernet import Fernet\n",
    "import os\n",
    "\n",
    "folio_key = os.getenv(\"FOLIO_KEY\")\n",
    "\n",
    "f = Fernet(folio_key)\n",
    "\n",
    "encrypt_dir = \"current_data\"\n",
    "decrypt_dir = \"current_data\"\n",
    "\n",
    "# Ensure the encrypt directory exists\n",
    "os.makedirs(decrypt_dir, exist_ok=True)\n",
    "\n",
    "# Encrypt each file in the current_data directory\n",
    "for filename in os.listdir(encrypt_dir):\n",
    "    file_path = os.path.join(encrypt_dir, filename)\n",
    "    \n",
    "    # Read the file data\n",
    "    with open(file_path, \"rb\") as file:\n",
    "        file_data = file.read()\n",
    "\n",
    "    # Decrypt data\n",
    "    encrypted_data = f.decrypt(file_data)\n",
    "\n",
    "    # Write the encrypted file to the encrypt directory\n",
    "    encrypted_file_path = os.path.join(decrypt_dir, filename)\n",
    "    with open(encrypted_file_path, \"wb\") as file:\n",
    "        file.write(encrypted_data)\n",
    "\n",
    "print(\"Decryptiong complete\")"
   ]
  },
  {
   "cell_type": "markdown",
   "metadata": {},
   "source": [
    "## Ingest new IKBR CSV report\n",
    "Make sure to add the report into IB_export folder and name it with ib_DDMMYYYY.csv. Replace the value of `ib_extract_file_name` with the name of the file you just added. "
   ]
  },
  {
   "cell_type": "code",
   "execution_count": null,
   "metadata": {},
   "outputs": [],
   "source": [
    "import matplotlib as mpl\n",
    "import matplotlib.pyplot as plt\n",
    "import numpy as np\n",
    "import pandas as pd\n",
    "\n",
    "from datetime import datetime\n",
    "\n",
    "%matplotlib inline\n",
    "%config InlineBackend.figure_format ='retina'\n",
    "\n",
    "from IPython.display import Markdown, display\n",
    "def printmd(string):\n",
    "    display(Markdown(string))\n",
    "\n",
    "ib_extract_file_name = \"2025-1Jan-6Jul.csv\"\n",
    "source_folder = \"IB_extract\"\n",
    "target_folder = \"current_data\"\n",
    "\n",
    "\"\"\"\n",
    "Function to Extract respective sections from IB extract csv file\n",
    "\"\"\"\n",
    "def extract(section_name, section_description):\n",
    "    with open(f'{source_folder}/{ib_extract_file_name}', 'r') as source_file:\n",
    "        lines = source_file.readlines()\n",
    "\n",
    "    start_index = None\n",
    "    end_index = None\n",
    "    bos = f'\"BOS\",\"{section_name}\",\"{section_description}\"'\n",
    "    eos = f'\"EOS\",\"{section_name}\"'\n",
    "\n",
    "    for i, line in enumerate(lines):\n",
    "        if bos in line:\n",
    "            start_index = i + 1\n",
    "        if eos in line and start_index is not None:\n",
    "            end_index = i - 1\n",
    "            break\n",
    "\n",
    "    if start_index is not None and end_index is not None:\n",
    "        with open(f'{source_folder}/temp.csv', 'w') as positions_file:\n",
    "            for line in lines[start_index:end_index + 1]:\n",
    "                positions_file.write(line)"
   ]
  },
  {
   "cell_type": "markdown",
   "metadata": {},
   "source": [
    "### Extract Cash Report (CRTT)"
   ]
  },
  {
   "cell_type": "code",
   "execution_count": null,
   "metadata": {},
   "outputs": [],
   "source": [
    "section_name = \"CRTT\"\n",
    "extract(section_name, \"Cash Report; trade date basis\")\n",
    "\n",
    "columns=[\n",
    "        \"ClientAccountID\",\n",
    "        \"CurrencyPrimary\",\n",
    "        \"LevelOfDetail\",\n",
    "        \"FromDate\", \n",
    "        \"ToDate\", \n",
    "        \"Commissions\",\n",
    "        \"Deposits\",\n",
    "        \"Withdrawals\",\n",
    "        \"BrokerInterest\",\n",
    "        \"NetTradesSales\",\n",
    "        \"NetTradesPurchases\",\n",
    "        \"SalesTax\",\n",
    "        \"EndingCash\",\n",
    "        \"EndingSettledCash\",\n",
    "        \"NetCashBalanceSLB\",\n",
    "        \"NetSettledCashBalanceSLB\",\n",
    "    ]\n",
    "\n",
    "data = pd.read_csv(f'{source_folder}/temp.csv')\n",
    "cash_report = data[columns].copy()\n",
    "cash_report.to_csv(f'{target_folder}/{section_name}.csv', index=False)"
   ]
  },
  {
   "cell_type": "markdown",
   "metadata": {},
   "source": [
    "### Extract Cash Transactions (CTRN)"
   ]
  },
  {
   "cell_type": "code",
   "execution_count": null,
   "metadata": {},
   "outputs": [],
   "source": [
    "section_name = \"CTRN\"\n",
    "extract(section_name, \"Cash Transactions\")\n",
    "\n",
    "columns=[\n",
    "        \"ClientAccountID\",\n",
    "        \"CurrencyPrimary\",\n",
    "        \"FXRateToBase\",\n",
    "        \"Date/Time\", \n",
    "        \"SettleDate\", \n",
    "        \"Amount\",\n",
    "        \"Type\",\n",
    "        \"TransactionID\",\n",
    "        \"ReportDate\",\n",
    "    ]\n",
    "\n",
    "data = pd.read_csv(f'{source_folder}/temp.csv')\n",
    "source_ctrn = data[columns].copy()\n",
    "\n",
    "if os.path.exists(f'{target_folder}/{section_name}.csv'):\n",
    "    data = pd.read_csv(f'{target_folder}/{section_name}.csv')\n",
    "    current_ctrn = data[columns].copy()\n",
    "\n",
    "    # Find TransactionIDs that are in source_ctrn but not in current_ctrn\n",
    "    new_trades = source_ctrn[~source_ctrn['TransactionID'].isin(current_ctrn['TransactionID'])]\n",
    "\n",
    "    # Append new transactions to current_ctrn\n",
    "    updated_trades = pd.concat([current_ctrn, new_trades])\n",
    "\n",
    "    # Write the updated dataframe to final.csv\n",
    "    updated_trades.to_csv(f'{target_folder}/{section_name}.csv', index=False)\n",
    "else:\n",
    "    source_ctrn.to_csv(f'{target_folder}/{section_name}.csv', index=False)\n"
   ]
  },
  {
   "cell_type": "markdown",
   "metadata": {},
   "source": [
    "### Positions (POST)"
   ]
  },
  {
   "cell_type": "code",
   "execution_count": null,
   "metadata": {},
   "outputs": [],
   "source": [
    "section_name = \"POST\"\n",
    "extract(section_name, \"Position; trade date basis\")\n",
    "\n",
    "columns=[\n",
    "        \"ClientAccountID\",\n",
    "        \"CurrencyPrimary\",\n",
    "        \"AssetClass\",\n",
    "        \"Symbol\", \n",
    "        \"Description\", \n",
    "        \"Conid\",\n",
    "        \"SecurityID\",\n",
    "        \"ListingExchange\",\n",
    "        \"IssuerCountryCode\",\n",
    "        \"ReportDate\",\n",
    "        \"Quantity\",\n",
    "        \"CostBasisPrice\",\n",
    "        \"CostBasisMoney\",\n",
    "        \"PercentOfNAV\",\n",
    "    ]\n",
    "data = pd.read_csv(f'{source_folder}/temp.csv')\n",
    "positions = data[columns].copy()\n",
    "positions.to_csv(f'{target_folder}/{section_name}.csv', index=False)"
   ]
  },
  {
   "cell_type": "markdown",
   "metadata": {},
   "source": [
    "### Trades (TRNT)"
   ]
  },
  {
   "cell_type": "code",
   "execution_count": null,
   "metadata": {},
   "outputs": [],
   "source": [
    "section_name = \"TRNT\"\n",
    "extract(section_name, \"Trades; trade date basis\")\n",
    "\n",
    "columns=[\n",
    "        \"ClientAccountID\",\n",
    "        \"CurrencyPrimary\",\n",
    "        \"AssetClass\",\n",
    "        \"Symbol\", \n",
    "        \"Description\", \n",
    "        \"Conid\",\n",
    "        \"SecurityID\",\n",
    "        \"ListingExchange\",\n",
    "        \"IssuerCountryCode\",\n",
    "        \"TradeID\",\n",
    "        \"TradeDate\",\n",
    "        \"SettleDateTarget\",\n",
    "        \"TransactionType\",\n",
    "        \"Exchange\",\n",
    "        \"Quantity\",\n",
    "        \"TradePrice\",\n",
    "        \"TradeMoney\",\n",
    "        \"Taxes\",\n",
    "        \"IBCommission\",\n",
    "        \"NetCash\",\n",
    "        \"CostBasis\",\n",
    "        \"FifoPnlRealized\",\n",
    "        \"Buy/Sell\",\n",
    "        \"LevelOfDetail\",\n",
    "        \"OrderTime\",\n",
    "    ]\n",
    "data = pd.read_csv(f'{source_folder}/temp.csv')\n",
    "trades = data[columns].copy()\n",
    "\n",
    "\n",
    "if os.path.exists(f'{target_folder}/{section_name}.csv'):\n",
    "    data = pd.read_csv(f'{target_folder}/{section_name}.csv')\n",
    "    current_trades = data[columns].copy()\n",
    "\n",
    "    key_cols = ['TradeDate', 'Quantity', 'TradePrice', 'OrderTime', 'Buy/Sell', 'LevelOfDetail']\n",
    "    new_trades = trades[~trades[key_cols].apply(tuple, axis=1).isin(current_trades[key_cols].apply(tuple, axis=1))]\n",
    "    updated_trades = pd.concat([current_trades, new_trades])\n",
    "    updated_trades.to_csv(f'{target_folder}/{section_name}.csv', index=False)\n",
    "else:\n",
    "    trades.to_csv(f'{target_folder}/{section_name}.csv', index=False)"
   ]
  },
  {
   "cell_type": "markdown",
   "metadata": {},
   "source": [
    "#### Encrypt data before code commit"
   ]
  },
  {
   "cell_type": "code",
   "execution_count": null,
   "metadata": {},
   "outputs": [],
   "source": [
    "from cryptography.fernet import Fernet\n",
    "import os\n",
    "\n",
    "folio_key = os.getenv(\"FOLIO_KEY\")\n",
    "\n",
    "f = Fernet(folio_key)\n",
    "\n",
    "# Define the directories\n",
    "current_data = \"current_data\"\n",
    "IB_extract = \"IB_extract\"\n",
    "\n",
    "def encrypt_file(directory, file_name):\n",
    "    file_path = os.path.join(directory, file_name)\n",
    "    with open(file_path, \"rb\") as file:\n",
    "        file_data = file.read()\n",
    "\n",
    "    encrypted_data = f.encrypt(file_data)\n",
    "\n",
    "    with open(file_path, \"wb\") as file:\n",
    "        file.write(encrypted_data)\n",
    "\n",
    "# Encrypt each file in the current_data directory\n",
    "for filename in os.listdir(current_data):\n",
    "    encrypt_file(current_data, filename)\n",
    "\n",
    "# Encrypt IB_extract report\n",
    "encrypt_file(IB_extract, ib_extract_file_name)\n",
    "\n",
    "# Encrypt temp file\n",
    "encrypt_file(IB_extract, \"temp.csv\")\n",
    "\n",
    "print(\"Encryption completed\")\n",
    "\n"
   ]
  },
  {
   "cell_type": "markdown",
   "metadata": {},
   "source": [
    "#### ⚠️ Decrypt\n",
    "Run this to selectively decrypt files. Ensure to encrypt them back before commit..."
   ]
  },
  {
   "cell_type": "code",
   "execution_count": null,
   "metadata": {},
   "outputs": [],
   "source": [
    "folio_key = os.getenv(\"FOLIO_KEY\")\n",
    "\n",
    "f = Fernet(folio_key)\n",
    "\n",
    "encrypt_dir = \"temp\"\n",
    "decrypt_dir = \"temp\"\n",
    "\n",
    "# Ensure the encrypt directory exists\n",
    "os.makedirs(decrypt_dir, exist_ok=True)\n",
    "\n",
    "# Encrypt each file in the current_data directory\n",
    "for filename in os.listdir(encrypt_dir):\n",
    "    file_path = os.path.join(encrypt_dir, filename)\n",
    "    \n",
    "    # Read the file data\n",
    "    with open(file_path, \"rb\") as file:\n",
    "        file_data = file.read()\n",
    "\n",
    "    # Decrypt data\n",
    "    encrypted_data = f.decrypt(file_data)\n",
    "\n",
    "    # Write the encrypted file to the encrypt directory\n",
    "    encrypted_file_path = os.path.join(decrypt_dir, filename)\n",
    "    with open(encrypted_file_path, \"wb\") as file:\n",
    "        file.write(encrypted_data)\n",
    "\n",
    "print(\"Decryptiong complete\")"
   ]
  },
  {
   "cell_type": "markdown",
   "metadata": {},
   "source": [
    "## 🛑 Generate Lock File\n",
    "YOU SHOULD NOT NEED THIS ANYMORE"
   ]
  },
  {
   "cell_type": "code",
   "execution_count": null,
   "metadata": {},
   "outputs": [],
   "source": [
    "from cryptography.fernet import Fernet\n",
    "\n",
    "# Create new key - YOU SHOULD NOT NEED THIS ANYMORE\n",
    "# def write_key():\n",
    "#     key = Fernet.generate_key()\n",
    "#     with open(\"folio.key\", \"wb\") as key_file:\n",
    "#         key_file.write(key)\n",
    "\n",
    "# write_key()"
   ]
  }
 ],
 "metadata": {
  "kernelspec": {
   "display_name": "env",
   "language": "python",
   "name": "python3"
  },
  "language_info": {
   "codemirror_mode": {
    "name": "ipython",
    "version": 3
   },
   "file_extension": ".py",
   "mimetype": "text/x-python",
   "name": "python",
   "nbconvert_exporter": "python",
   "pygments_lexer": "ipython3",
   "version": "3.12.4"
  }
 },
 "nbformat": 4,
 "nbformat_minor": 2
}
