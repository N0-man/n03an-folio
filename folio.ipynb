{
 "cells": [
  {
   "cell_type": "markdown",
   "metadata": {},
   "source": [
    "### Initialise"
   ]
  },
  {
   "cell_type": "code",
   "execution_count": null,
   "metadata": {},
   "outputs": [],
   "source": [
    "import matplotlib as mpl\n",
    "import matplotlib.pyplot as plt\n",
    "from mpl_toolkits.mplot3d import Axes3D\n",
    "import numpy as np\n",
    "import pandas as pd\n",
    "from IPython.display import display_html\n",
    "from cryptography.fernet import Fernet\n",
    "import os\n",
    "from io import StringIO\n",
    "\n",
    "from datetime import datetime\n",
    "\n",
    "%matplotlib inline\n",
    "%config InlineBackend.figure_format ='retina'\n",
    "\n",
    "from IPython.display import Markdown, display\n",
    "def printmd(string):\n",
    "    display(Markdown(string))\n",
    "\n",
    "data = \"current_data\"\n",
    "\n",
    "folio_key = os.getenv(\"FOLIO_KEY\")\n",
    "f = Fernet(folio_key)\n",
    "\n",
    "def decrypt(file_path):\n",
    "    with open(file_path, \"rb\") as file:\n",
    "        file_data = file.read()\n",
    "    raw = f.decrypt(file_data)\n",
    "    raw_str = raw.decode('utf-8')\n",
    "    return pd.read_csv(StringIO(raw_str))"
   ]
  },
  {
   "cell_type": "markdown",
   "metadata": {},
   "source": [
    "### Account Info"
   ]
  },
  {
   "cell_type": "code",
   "execution_count": null,
   "metadata": {},
   "outputs": [],
   "source": [
    "raw = decrypt(f'{data}/account.csv')\n",
    "# convert to pandas\n",
    "columns=[\n",
    "        \"ClientAccountID\",\n",
    "        \"CurrencyPrimary\",\n",
    "        \"Name\",\n",
    "        \"AccountType\", \n",
    "        \"CustomerType\", \n",
    "        \"AccountCapabilities\",\n",
    "        \"TradingPermissions\",\n",
    "        \"DateOpened\",\n",
    "        \"DateFunded\",\n",
    "        \"Street\",\n",
    "        \"Street2\",\n",
    "        \"City\",\n",
    "        \"State\",\n",
    "        \"Country\",\n",
    "        \"PostalCode\",\n",
    "        \"IBEntity\",\n",
    "        \"PrimaryEmail\",\n",
    "    ]\n",
    "account = raw[columns].copy()\n",
    "account.head()"
   ]
  },
  {
   "cell_type": "markdown",
   "metadata": {},
   "source": [
    "### Cash Report"
   ]
  },
  {
   "cell_type": "code",
   "execution_count": null,
   "metadata": {},
   "outputs": [],
   "source": [
    "crtt = decrypt(f'{data}/CRTT.csv')\n",
    "\n",
    "available_cash = np.round(crtt[crtt['CurrencyPrimary'] == 'BASE_SUMMARY']['NetCashBalanceSLB'].iloc[0], 2)\n",
    "print(available_cash)\n",
    "crtt.head()"
   ]
  },
  {
   "cell_type": "markdown",
   "metadata": {},
   "source": [
    "### Cash Transactions (CTRN)"
   ]
  },
  {
   "cell_type": "code",
   "execution_count": null,
   "metadata": {},
   "outputs": [],
   "source": [
    "ctrn = decrypt(f'{data}/CTRN.csv')\n",
    "ctrn.head(20)"
   ]
  },
  {
   "cell_type": "code",
   "execution_count": null,
   "metadata": {},
   "outputs": [],
   "source": [
    "# Dataframe condition\n",
    "# crtt[(crtt[\"CurrencyPrimary\"] == \"USD\") & (crtt[\"Type\"] == \"Deposits/Withdrawals\")]\n",
    "\n",
    "# Selecting multipel columsn from output\n",
    "# crtt.query('CurrencyPrimary == \"USD\" and Type == \"Deposits/Withdrawals\"')[[\"Amount\", \"Type\"]]\n",
    "\n",
    "# Selecting via query style\n",
    "ctrn.query('CurrencyPrimary == \"USD\" and Type == \"Deposits/Withdrawals\"').head(40)\n",
    "\n",
    "bank_transfers = ctrn.query('CurrencyPrimary == \"USD\" and Type == \"Deposits/Withdrawals\"')[\"Amount\"].sum()\n",
    "interest_recieved = ctrn.query('CurrencyPrimary == \"USD\" and Type == \"Broker Interest Received\"')[\"Amount\"].sum()\n",
    "\n",
    "printmd(f\"<h3><b><span style='color:#FFCE1B'>Bank Transferes </b> : </span> $ {bank_transfers}</h3\")\n",
    "printmd(f\"<h3><b><span style='color:#C04657'>IB Interest Recieved </b> : </span> $ {interest_recieved}</h3\")\n"
   ]
  },
  {
   "cell_type": "markdown",
   "metadata": {},
   "source": [
    "### Positions"
   ]
  },
  {
   "cell_type": "code",
   "execution_count": null,
   "metadata": {},
   "outputs": [],
   "source": [
    "positions = decrypt(f'{data}/POST.csv')\n",
    "positions.head(20)"
   ]
  },
  {
   "cell_type": "markdown",
   "metadata": {},
   "source": [
    "### Trades"
   ]
  },
  {
   "cell_type": "code",
   "execution_count": null,
   "metadata": {},
   "outputs": [],
   "source": [
    "trades = decrypt(f'{data}/TRNT.csv')\n",
    "trades.head()"
   ]
  },
  {
   "cell_type": "markdown",
   "metadata": {},
   "source": [
    "### Portfolio"
   ]
  },
  {
   "cell_type": "code",
   "execution_count": null,
   "metadata": {},
   "outputs": [],
   "source": [
    "def calculate(symbol):\n",
    "    orders = trades[(trades[\"Symbol\"] == symbol) & (trades[\"LevelOfDetail\"] == \"EXECUTION\")]\n",
    "    cost_basis = orders[\"CostBasis\"].sum()\n",
    "    fees = abs(orders[\"Taxes\"].sum()) + abs(orders[\"IBCommission\"].sum())\n",
    "    pnl = orders[(orders[\"Buy/Sell\"] == \"SELL\")][\"FifoPnlRealized\"].sum()\n",
    "\n",
    "    return np.round(cost_basis, 2), np.round(pnl, 2), np.round(fees, 2)\n",
    "\n",
    "def get_info(symbol):\n",
    "    row = trades[(trades[\"Symbol\"] == symbol) & (trades[\"LevelOfDetail\"] == \"EXECUTION\")].iloc[0]\n",
    "    return row[\"Description\"], row[\"ListingExchange\"]\n",
    "\n",
    "def buy_sell_trades(symbol):\n",
    "   orders = trades[(trades[\"Symbol\"] == symbol) & (trades[\"LevelOfDetail\"] == \"EXECUTION\")]\n",
    "   total_sell = abs(orders[(orders[\"Buy/Sell\"] == \"SELL\")][\"Quantity\"].sum())\n",
    "   total_buy = orders[(orders[\"Buy/Sell\"] == \"BUY\")][\"Quantity\"].sum()\n",
    "   current_quantity = orders[\"Quantity\"].sum()\n",
    "   return np.round(current_quantity, 1), np.round(total_buy, 1), np.round(total_sell, 1)\n",
    "\n",
    "def total_profits(portfolio):\n",
    "    total = portfolio['PnL'].sum()\n",
    "\n",
    "def squash(portfolio, new_symbol, old_symbol):\n",
    "    # Select rows to merge\n",
    "    new_asset = portfolio[portfolio['SYMBOL'] == new_symbol].iloc[0]\n",
    "    old_asset = portfolio[portfolio['SYMBOL'] == old_symbol].iloc[0]\n",
    "\n",
    "    # Sum numerical values\n",
    "    squash_asset = new_asset[['CostBasis', 'Quantity', 'Total Buy', 'Total Sell','PnL', 'Fees']] + old_asset[['CostBasis', 'Quantity', 'Total Buy', 'Total Sell','PnL', 'Fees']]\n",
    "\n",
    "    # Combine non-numerical values (take from new_symbol)\n",
    "    squash_asset['SYMBOL'] = new_symbol\n",
    "    squash_asset['Description'] = new_asset['Description']\n",
    "    squash_asset['Exchange'] = new_asset['Exchange']\n",
    "\n",
    "    # Drop the row of old and new asset reocrds. Concat the squashed asset\n",
    "    portfolio = portfolio[~portfolio['SYMBOL'].isin([new_symbol, old_symbol])]\n",
    "    portfolio = pd.concat([portfolio, pd.DataFrame([squash_asset])])\n",
    "\n",
    "    return portfolio\n",
    "\n",
    "def categorised_portfolio(portfolio, category_symbols):\n",
    "    cat_folio = portfolio[portfolio['SYMBOL'].isin(category_symbols)]\n",
    "    cat_folio.reset_index(drop=True, inplace=True)\n",
    "    return cat_folio\n",
    "\n",
    "def table(folio):\n",
    "    # table\n",
    "    html_table = folio.to_html(index=False)\n",
    "    display_html(html_table, raw=True)\n",
    "\n",
    "def render(cat_folio, title):\n",
    "    table(cat_folio)\n",
    "\n",
    "    # # Graph\n",
    "    # plt.figure(figsize=(8, 8))\n",
    "    # plt.pie(cat_folio['CostBasis'], labels=cat_folio['SYMBOL'], autopct='%1.1f%%', startangle=140)\n",
    "    # plt.title(title)\n",
    "    # plt.show()\n",
    "\n",
    "   # Pie chart\n",
    "    sizes = cat_folio['CostBasis']\n",
    "    labels = cat_folio['SYMBOL']\n",
    "    #explsion\n",
    "    explode = [0.05] * len(labels)\n",
    "    plt.pie(sizes, labels=labels, autopct='%1.1f%%', startangle=90, pctdistance=0.85, explode = explode)\n",
    "    #draw circle\n",
    "    centre_circle = plt.Circle((0,0),0.70,fc='white')\n",
    "    fig = plt.gcf()\n",
    "    fig.gca().add_artist(centre_circle)\n",
    "    # Equal aspect ratio ensures that pie is drawn as a circle\n",
    "    plt.axis('equal')  \n",
    "    plt.tight_layout()\n",
    "    plt.show()\n",
    "    \n",
    "\n",
    "\"\"\"\n",
    "START OF THE MAIN FLOW\n",
    "\"\"\"\n",
    "symbols = trades[trades[\"AssetClass\"] == 'STK'].Symbol.unique()\n",
    "growth_symbols = ['VIR', 'TSLA', 'PLL', 'MU', 'IREN', 'CLSK', 'AMD']\n",
    "emerging_symbols = ['BTDR', 'IRD']\n",
    "divident_symbols = ['MRK']\n",
    "data = []\n",
    "\n",
    "for symbol in symbols:\n",
    "    cost, pnl, fees = calculate(symbol)\n",
    "    description, exchange = get_info(symbol)\n",
    "    current_quantity, total_buy, total_sell = buy_sell_trades(symbol)\n",
    "    data.append([symbol, description, exchange, cost, current_quantity, total_buy, total_sell, pnl, fees])\n",
    "\n",
    "portfolio = pd.DataFrame(data, columns=['SYMBOL','Description', 'Exchange', 'CostBasis', 'Quantity', 'Total Buy', 'Total Sell','PnL', 'Fees'])\n",
    "\n",
    "total_pnl = portfolio['PnL'].sum()\n",
    "total_fees = portfolio['Fees'].sum()\n",
    "equities = portfolio['CostBasis'].sum()\n",
    "\n",
    "# Merge equities that has gone through an aquisition\n",
    "portfolio = squash(portfolio, \"IRD\", \"OCUP\")\n",
    "portfolio = portfolio.sort_values(by='SYMBOL')\n",
    "\n",
    "printmd(f\"<h1><span style='color:white'>🔘 n03an's Portfolio 🔘</span></h1\")\n",
    "printmd(f\"<h3><span style='color:#FFCE1B'>😰 Total Investment (USD) : </span> $ {bank_transfers}</h3\")\n",
    "printmd(f\"<h3><b><span style='color:lightgreen'>💰 Available Cash (USD) </b> : </span> $ {available_cash}</h3\")\n",
    "printmd(f\"<h3><span style='color:#FFCE1B'>🛖 Equities : </span> $ {equities}</h3\")\n",
    "printmd(f\"<h3><b><span style='color:lightgreen'>👍🏼 Total Realised PnL</b> : </span> $ {total_pnl}</h3\")\n",
    "printmd(f\"<h3><b><span style='color:#C04657'>🔴 IB Interest Recieved </b> : </span> $ {interest_recieved}</h3\")\n",
    "printmd(f\"<h3><span style='color:#C04657'>🤦🏻‍♂️ Commission Paid : </span> $ {total_fees}</h3\")\n",
    "\n",
    "growth_portfolio = categorised_portfolio(portfolio, growth_symbols)\n",
    "emerging_portfolio = categorised_portfolio(portfolio, emerging_symbols)\n",
    "divident_portfolio = categorised_portfolio(portfolio, divident_symbols)\n",
    "exited_assets = portfolio[portfolio['Quantity'] == 0.0]\n",
    "\n",
    "# Overall Portfolio\n",
    "render(portfolio[portfolio['Quantity'] != 0.0], \"n03an's Portfolio: Cost Basis\")\n",
    "\n",
    "# Growth Portfolio\n",
    "printmd(f\"<hr /><h3><span style='color:cyan'>Growth Portfolio: 30% Average Annual Rate of Return</span></h3\")\n",
    "printmd(f\"<p><span style='color:tomato'>Volatility : High</span></p\")\n",
    "printmd(f\"<p><span style='color:white'>This portfolio aims to diversify into many halal and promising high-growth companies with a focus on disruptive technology.</span></p\")\n",
    "render(growth_portfolio, 'Growth Portfolio: Cost Basis')\n",
    "\n",
    "# Emerging Portfolio\n",
    "printmd(f\"<hr /><h3><span style='color:cyan'>Emerging Portfolio: 10X in 5 Years</span></h3\")\n",
    "printmd(f\"<p><span style='color:tomato'>Volatility : High</span></p\")\n",
    "render(emerging_portfolio, 'Emerging Portfolio: Cost Basis')\n",
    "\n",
    "# Divident Portfolio\n",
    "printmd(f\"<hr /><h3><span style='color:cyan'>Divident Portfolio: 3% - 4% annual Dividend Yield</span></h3\")\n",
    "printmd(f\"<p><span style='color:orange'>Volatility : Moderate</span></p\")\n",
    "printmd(f\"<p><span style='color:white'>This portfolio aims to provide a steady stream of passive halal income from Dividends.</span></p\")\n",
    "render(divident_portfolio, 'Divident Portfolio: Cost Basis')\n",
    "\n",
    "# Exited Asset\n",
    "printmd(f\"<hr /><h3><span style='color:cyan'>Exited Assets</span></h3\")\n",
    "table(exited_assets)\n"
   ]
  },
  {
   "cell_type": "code",
   "execution_count": 19,
   "metadata": {},
   "outputs": [
    {
     "name": "stdout",
     "output_type": "stream",
     "text": [
      "15.92\n",
      "3.56\n",
      "10.49\n",
      "9.805\n",
      "9.94\n"
     ]
    }
   ],
   "source": [
    "import yfinance as yf\n",
    "from datetime import datetime, timedelta\n",
    "\n",
    "data = yf.Ticker(\"IREN\").info\n",
    "print(data[\"fiftyTwoWeekHigh\"])\n",
    "print(data[\"fiftyTwoWeekLow\"])\n",
    "print(data[\"dayHigh\"])\n",
    "print(data[\"dayLow\"])\n",
    "print(data[\"currentPrice\"])"
   ]
  }
 ],
 "metadata": {
  "kernelspec": {
   "display_name": "env",
   "language": "python",
   "name": "python3"
  },
  "language_info": {
   "codemirror_mode": {
    "name": "ipython",
    "version": 3
   },
   "file_extension": ".py",
   "mimetype": "text/x-python",
   "name": "python",
   "nbconvert_exporter": "python",
   "pygments_lexer": "ipython3",
   "version": "3.12.4"
  }
 },
 "nbformat": 4,
 "nbformat_minor": 2
}
